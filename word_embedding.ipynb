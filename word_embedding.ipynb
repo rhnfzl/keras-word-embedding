{
 "cells": [
  {
   "cell_type": "markdown",
   "metadata": {
    "colab_type": "text",
    "id": "7ORVPadj7rKq"
   },
   "source": [
    "# Assignment 1\n",
    "\n",
    "<b>Group [fill in group number]</b>\n",
    "* REHAN FAZAL - 1423002\n",
    "\n",
    "**Reading material**\n",
    "* [1] Mikolov, Tomas, et al. \"[Efficient Estimation of Word Representations in Vector Space](https://arxiv.org/abs/1301.3781)\" Advances in neural information processing systems. 2013. \n",
    "\n",
    "<b><font color='red'>NOTE</font></b> When submitting your notebook, please make sure that the training history of your model is visible in the output. This means that you should **NOT** clean your output cells of the notebook. Make sure that your notebook runs without errors in linear order.\n",
    "\n"
   ]
  },
  {
   "cell_type": "markdown",
   "metadata": {
    "colab_type": "text",
    "id": "6rQwLyiMFu_1"
   },
   "source": [
    "# Question 1 - Keras implementation (10 pt)\n",
    "\n",
    "### Word embeddings\n",
    "Build word embeddings with a Keras implementation where the embedding vector is of length 50, 150 and 300. Use the Alice in Wonderland text book for training. Use a window size of 2 to train the embeddings (`window_size` in the jupyter notebook). \n",
    "\n",
    "1. Build word embeddings of length 50, 150 and 300 using the Skipgram model\n",
    "2. Build word embeddings of length 50, 150 and 300 using CBOW model\n",
    "3. Analyze the different word embeddings:\n",
    "    - Implement your own function to perform the analogy task (see [1] for concrete examples). Use the same distance metric as in the paper. Do not use existing libraries for this task such as Gensim. \n",
    "Your function should be able to answer whether an analogy like: \"a king is to a queen as a man is to a woman\" ($e_{king} - e_{queen} + e_{woman} \\approx e_{man}$) is true. $e_{x}$ denotes the embedding of word $x$. We want to find the word $p$ in the vocabulary, where the embedding of $p$ ($e_p$) is the closest to the predicted embedding (i.e. result of the formula). Then, we can check if $p$ is the same word as the true word $t$.\n",
    "    - Give at least 5 different  examples of analogies.\n",
    "    - Compare the performance on the analogy tasks between the word embeddings and briefly discuss your results.\n",
    "\n",
    "4. Discuss:\n",
    "  - Given the same number of sentences as input, CBOW and Skipgram arrange the data into different number of training samples. Which one has more and why?\n",
    "\n",
    "\n",
    "<b>HINT</b> See practical 3.1 for some helpful code to start this assignment.\n"
   ]
  },
  {
   "cell_type": "markdown",
   "metadata": {
    "colab_type": "text",
    "id": "ctoyAoX1AI6T"
   },
   "source": [
    "### Import libraries"
   ]
  },
  {
   "cell_type": "code",
   "execution_count": 0,
   "metadata": {
    "colab": {},
    "colab_type": "code",
    "id": "x5VOelR7BYQ1"
   },
   "outputs": [],
   "source": [
    "%tensorflow_version 2.x"
   ]
  },
  {
   "cell_type": "code",
   "execution_count": 0,
   "metadata": {
    "colab": {},
    "colab_type": "code",
    "id": "vCnATRPgBZEd"
   },
   "outputs": [],
   "source": [
    "import numpy as np\n",
    "import keras.backend as K\n",
    "import tensorflow as tf\n",
    "from tensorflow import keras\n",
    "\n",
    "from tensorflow.keras.models import Sequential\n",
    "from tensorflow.keras.layers import Dense, Embedding, Reshape, Lambda\n",
    "from tensorflow.keras.utils import to_categorical\n",
    "from tensorflow.keras.preprocessing.text import Tokenizer\n",
    "from tensorflow.keras.utils import plot_model\n",
    "from tensorflow.keras.preprocessing import sequence\n",
    "\n",
    "# other helpful libraries\n",
    "from sklearn.manifold import TSNE\n",
    "from sklearn.metrics.pairwise import cosine_similarity\n",
    "from sklearn.neighbors import NearestNeighbors as nn\n",
    "from matplotlib import pylab\n",
    "import pandas as pd"
   ]
  },
  {
   "cell_type": "code",
   "execution_count": 0,
   "metadata": {
    "colab": {
     "base_uri": "https://localhost:8080/",
     "height": 34
    },
    "colab_type": "code",
    "executionInfo": {
     "elapsed": 543,
     "status": "ok",
     "timestamp": 1589546426737,
     "user": {
      "displayName": "Antonaba Varela",
      "photoUrl": "",
      "userId": "06371348070710609953"
     },
     "user_tz": -120
    },
    "id": "qBNCPtOoBbB1",
    "outputId": "74fcf17d-5d38-481f-d1a4-e1bd9035bc88"
   },
   "outputs": [
    {
     "name": "stdout",
     "output_type": "stream",
     "text": [
      "2.2.0\n"
     ]
    }
   ],
   "source": [
    "print(tf.__version__) #  check what version of TF is imported"
   ]
  },
  {
   "cell_type": "markdown",
   "metadata": {
    "colab_type": "text",
    "id": "WCd0zUO1AKjY"
   },
   "source": [
    "### Import file\n",
    "\n",
    "If you use Google Colab, you need to mount your Google Drive to the notebook when you want to use files that are located in your Google Drive. Paste the authorization code, from the new tab page that opens automatically when running the cell, in the cell below."
   ]
  },
  {
   "cell_type": "code",
   "execution_count": 0,
   "metadata": {
    "colab": {
     "base_uri": "https://localhost:8080/",
     "height": 34
    },
    "colab_type": "code",
    "executionInfo": {
     "elapsed": 517,
     "status": "ok",
     "timestamp": 1589546428644,
     "user": {
      "displayName": "Antonaba Varela",
      "photoUrl": "",
      "userId": "06371348070710609953"
     },
     "user_tz": -120
    },
    "id": "DdjNeehKBd-a",
    "outputId": "882e2a09-143d-469d-facc-f27665a3c79a"
   },
   "outputs": [
    {
     "name": "stdout",
     "output_type": "stream",
     "text": [
      "Drive already mounted at /content/drive; to attempt to forcibly remount, call drive.mount(\"/content/drive\", force_remount=True).\n"
     ]
    }
   ],
   "source": [
    "from google.colab import drive\n",
    "drive.mount('/content/drive')"
   ]
  },
  {
   "cell_type": "markdown",
   "metadata": {
    "colab_type": "text",
    "id": "UjIVBt8YGUaO"
   },
   "source": [
    "Navigate to the folder in which `alice.txt` is located. Make sure to start path with '/content/drive/My Drive/' if you want to load the file from your Google Drive."
   ]
  },
  {
   "cell_type": "code",
   "execution_count": 0,
   "metadata": {
    "colab": {
     "base_uri": "https://localhost:8080/",
     "height": 34
    },
    "colab_type": "code",
    "executionInfo": {
     "elapsed": 513,
     "status": "ok",
     "timestamp": 1589546431167,
     "user": {
      "displayName": "Antonaba Varela",
      "photoUrl": "",
      "userId": "06371348070710609953"
     },
     "user_tz": -120
    },
    "id": "iS0-uINUBfic",
    "outputId": "2a4d3775-05fe-4916-9af4-954502de28a3"
   },
   "outputs": [
    {
     "name": "stdout",
     "output_type": "stream",
     "text": [
      "/content/drive/My Drive/2IMM10/Assignment 1\n"
     ]
    }
   ],
   "source": [
    "cd '/content/drive/My Drive/2IMM10/Assignment 1'"
   ]
  },
  {
   "cell_type": "code",
   "execution_count": 0,
   "metadata": {
    "colab": {},
    "colab_type": "code",
    "id": "Gz8Z5gCDBhSl"
   },
   "outputs": [],
   "source": [
    "file_name = 'alice.txt'\n",
    "corpus = open(file_name).readlines()"
   ]
  },
  {
   "cell_type": "markdown",
   "metadata": {
    "colab_type": "text",
    "id": "zkbk32wHANnD"
   },
   "source": [
    "### Data preprocessing\n",
    "\n",
    "See Practical 3.1 for an explanation of the preprocessing steps done below."
   ]
  },
  {
   "cell_type": "code",
   "execution_count": 0,
   "metadata": {
    "colab": {},
    "colab_type": "code",
    "id": "37PyOHq2BkY4"
   },
   "outputs": [],
   "source": [
    "# Removes sentences with fewer than 3 words\n",
    "corpus = [sentence for sentence in corpus if sentence.count(\" \") >= 2]\n",
    "\n",
    "# remove punctuation in text and fit tokenizer on entire corpus\n",
    "tokenizer = Tokenizer(filters='!\"#$%&()*+,-./:;<=>?@[\\\\]^_`{|}~\\t\\n'+\"'\")\n",
    "tokenizer.fit_on_texts(corpus)\n",
    "\n",
    "# convert text to sequence of integer values\n",
    "corpus = tokenizer.texts_to_sequences(corpus)\n",
    "n_samples = sum(len(s) for s in corpus) # total number of words in the corpus\n",
    "V = len(tokenizer.word_index) + 1 # total number of unique words in the corpus"
   ]
  },
  {
   "cell_type": "code",
   "execution_count": 0,
   "metadata": {
    "colab": {
     "base_uri": "https://localhost:8080/",
     "height": 34
    },
    "colab_type": "code",
    "executionInfo": {
     "elapsed": 526,
     "status": "ok",
     "timestamp": 1589546559428,
     "user": {
      "displayName": "Antonaba Varela",
      "photoUrl": "",
      "userId": "06371348070710609953"
     },
     "user_tz": -120
    },
    "id": "ILdA_IimBlte",
    "outputId": "cd031165-ed83-4082-b346-28ab14da305b"
   },
   "outputs": [
    {
     "data": {
      "text/plain": [
       "(27165, 2557)"
      ]
     },
     "execution_count": 97,
     "metadata": {
      "tags": []
     },
     "output_type": "execute_result"
    }
   ],
   "source": [
    "n_samples, V"
   ]
  },
  {
   "cell_type": "code",
   "execution_count": 0,
   "metadata": {
    "colab": {
     "base_uri": "https://localhost:8080/",
     "height": 34
    },
    "colab_type": "code",
    "executionInfo": {
     "elapsed": 652,
     "status": "ok",
     "timestamp": 1589546561753,
     "user": {
      "displayName": "Antonaba Varela",
      "photoUrl": "",
      "userId": "06371348070710609953"
     },
     "user_tz": -120
    },
    "id": "fRbpue0WBms6",
    "outputId": "6f18ca6a-a80a-4ec8-ca4a-14aa978f64ce"
   },
   "outputs": [
    {
     "name": "stdout",
     "output_type": "stream",
     "text": [
      "[('the', 1), ('and', 2), ('to', 3), ('a', 4), ('it', 5)]\n"
     ]
    }
   ],
   "source": [
    "# example of how word to integer mapping looks like in the tokenizer\n",
    "print(list((tokenizer.word_index.items()))[:5])"
   ]
  },
  {
   "cell_type": "code",
   "execution_count": 0,
   "metadata": {
    "colab": {},
    "colab_type": "code",
    "id": "Er86VxH9BqI9"
   },
   "outputs": [],
   "source": [
    "# parameters\n",
    "window_size = 2\n",
    "window_size_corpus = 4"
   ]
  },
  {
   "cell_type": "code",
   "execution_count": 0,
   "metadata": {
    "colab": {},
    "colab_type": "code",
    "id": "zTJFeL6drQsU"
   },
   "outputs": [],
   "source": [
    "#saving trained models\n",
    "def save_model_embed(model, model_name):\n",
    "  weights = model.get_weights()\n",
    "  embedding = weights[0]\n",
    "  np.savetxt('new_model_' + model_name + '.txt',embedding)"
   ]
  },
  {
   "cell_type": "markdown",
   "metadata": {
    "colab_type": "text",
    "id": "M0sU1JORATvX"
   },
   "source": [
    "## Task 1.1 - Skipgram\n",
    "Build word embeddings of length 50, 150 and 300 using the Skipgram model."
   ]
  },
  {
   "cell_type": "code",
   "execution_count": 0,
   "metadata": {
    "colab": {},
    "colab_type": "code",
    "id": "Udp1xKcDBu0v"
   },
   "outputs": [],
   "source": [
    "#prepare data for skipgram\n",
    "def data_skipgram(corpus, window_size, V):\n",
    "    x = []\n",
    "    y = []\n",
    "    for words in corpus:\n",
    "        L = len(words)\n",
    "        for index, word in enumerate(words):\n",
    "            floor = index - window_size\n",
    "            ceiling = index + window_size + 1       \n",
    "            for i in range(floor, ceiling):\n",
    "                if i != index and 0 <= i < L:\n",
    "                    # Add the input word\n",
    "                    x.append(word)\n",
    "                    # Add one-hot of the context words\n",
    "                    y.append(to_categorical(words[i], V))\n",
    "                                      \n",
    "    return (np.array(x),np.array(y))"
   ]
  },
  {
   "cell_type": "code",
   "execution_count": 0,
   "metadata": {
    "colab": {
     "base_uri": "https://localhost:8080/",
     "height": 51
    },
    "colab_type": "code",
    "executionInfo": {
     "elapsed": 3982,
     "status": "ok",
     "timestamp": 1589546573078,
     "user": {
      "displayName": "Antonaba Varela",
      "photoUrl": "",
      "userId": "06371348070710609953"
     },
     "user_tz": -120
    },
    "id": "qXBGNrKTB0tO",
    "outputId": "e6ba2ca3-c912-4158-cebb-bcacf360f9d0"
   },
   "outputs": [
    {
     "name": "stdout",
     "output_type": "stream",
     "text": [
      "(94556,)\n",
      "(94556, 2557)\n"
     ]
    }
   ],
   "source": [
    "# create training data\n",
    "x , y = data_skipgram(corpus,window_size,V)\n",
    "print(x.shape)\n",
    "print(y.shape)"
   ]
  },
  {
   "cell_type": "code",
   "execution_count": 0,
   "metadata": {
    "colab": {},
    "colab_type": "code",
    "id": "J1FTkStoDLFQ"
   },
   "outputs": [],
   "source": [
    "# create skipgram architecture\n",
    "def createSkipgram(dim):\n",
    "  # TODO finish the model implementation\n",
    "  skipgram = Sequential()\n",
    "  #input_dim: size of the vocabulary = V number of unique words\n",
    "  #output_dim: size of the embedded word = dim\n",
    "  #input_length: number of words = 1 or 2\n",
    "  skipgram.add(Embedding(embeddings_initializer=\"glorot_uniform\", input_dim=V, input_length= 1, output_dim= dim))\n",
    "  skipgram.add(Reshape((dim,)))\n",
    "  #number of classes: number of words = V\n",
    "  skipgram.add(Dense(V,kernel_initializer=\"glorot_uniform\",activation=\"softmax\"))\n",
    "  skipgram.compile(loss='categorical_crossentropy',optimizer='adadelta',metrics=['accuracy'])\n",
    "  return skipgram"
   ]
  },
  {
   "cell_type": "code",
   "execution_count": 0,
   "metadata": {
    "colab": {
     "base_uri": "https://localhost:8080/",
     "height": 422
    },
    "colab_type": "code",
    "executionInfo": {
     "elapsed": 582,
     "status": "ok",
     "timestamp": 1589546578121,
     "user": {
      "displayName": "Antonaba Varela",
      "photoUrl": "",
      "userId": "06371348070710609953"
     },
     "user_tz": -120
    },
    "id": "4WqqYn-HHhrc",
    "outputId": "9c72b87d-1194-4160-8903-2d490a014462"
   },
   "outputs": [
    {
     "data": {
      "image/png": "[encoded data removed]",
      "text/plain": [
       "<IPython.core.display.Image object>"
      ]
     },
     "execution_count": 104,
     "metadata": {
      "tags": []
     },
     "output_type": "execute_result"
    }
   ],
   "source": [
    "skipgram50=createSkipgram(50)\n",
    "plot_model(skipgram50, show_shapes = True, show_layer_names=False)"
   ]
  },
  {
   "cell_type": "code",
   "execution_count": 0,
   "metadata": {
    "colab": {
     "base_uri": "https://localhost:8080/",
     "height": 422
    },
    "colab_type": "code",
    "executionInfo": {
     "elapsed": 624,
     "status": "ok",
     "timestamp": 1589546581799,
     "user": {
      "displayName": "Antonaba Varela",
      "photoUrl": "",
      "userId": "06371348070710609953"
     },
     "user_tz": -120
    },
    "id": "lpaxAJ3otQva",
    "outputId": "65c297fa-03aa-4603-a177-d04915516eff"
   },
   "outputs": [
    {
     "data": {
      "image/png": "[encoded data removed]",
      "text/plain": [
       "<IPython.core.display.Image object>"
      ]
     },
     "execution_count": 105,
     "metadata": {
      "tags": []
     },
     "output_type": "execute_result"
    }
   ],
   "source": [
    "skipgram150=createSkipgram(150)\n",
    "plot_model(skipgram150, show_shapes = True, show_layer_names=False)"
   ]
  },
  {
   "cell_type": "code",
   "execution_count": 0,
   "metadata": {
    "colab": {
     "base_uri": "https://localhost:8080/",
     "height": 422
    },
    "colab_type": "code",
    "executionInfo": {
     "elapsed": 869,
     "status": "ok",
     "timestamp": 1589546585503,
     "user": {
      "displayName": "Antonaba Varela",
      "photoUrl": "",
      "userId": "06371348070710609953"
     },
     "user_tz": -120
    },
    "id": "BJR48NQitZeK",
    "outputId": "97d9adc4-49d9-43bd-fa14-489382b56d11"
   },
   "outputs": [
    {
     "data": {
      "image/png": "[encoded data removed]",
      "text/plain": [
       "<IPython.core.display.Image object>"
      ]
     },
     "execution_count": 106,
     "metadata": {
      "tags": []
     },
     "output_type": "execute_result"
    }
   ],
   "source": [
    "skipgram300=createSkipgram(300)\n",
    "plot_model(skipgram300, show_shapes = True, show_layer_names=False)"
   ]
  },
  {
   "cell_type": "markdown",
   "metadata": {
    "colab_type": "text",
    "id": "yxb3ulOlD1Z2"
   },
   "source": [
    "<b>HINT</b>: To increase training speed of your model, you can use the free available GPU power in Google Colab. Go to `Edit` --> `Notebook Settings` --> select `GPU` under `hardware accelerator`."
   ]
  },
  {
   "cell_type": "code",
   "execution_count": 0,
   "metadata": {
    "colab": {
     "base_uri": "https://localhost:8080/",
     "height": 1000
    },
    "colab_type": "code",
    "executionInfo": {
     "elapsed": 431613,
     "status": "ok",
     "timestamp": 1589547019827,
     "user": {
      "displayName": "Antonaba Varela",
      "photoUrl": "",
      "userId": "06371348070710609953"
     },
     "user_tz": -120
    },
    "id": "a9eg0xPoDP9B",
    "outputId": "1ba39dfe-af55-48a1-ae5d-24ad461ab7e8"
   },
   "outputs": [
    {
     "name": "stdout",
     "output_type": "stream",
     "text": [
      "Epoch 1/10\n",
      "1478/1478 [==============================] - 8s 6ms/step - loss: 7.8460 - accuracy: 9.8354e-04\n",
      "Epoch 2/10\n",
      "1478/1478 [==============================] - 9s 6ms/step - loss: 7.8452 - accuracy: 0.0019\n",
      "Epoch 3/10\n",
      "1478/1478 [==============================] - 9s 6ms/step - loss: 7.8443 - accuracy: 0.0065\n",
      "Epoch 4/10\n",
      "1478/1478 [==============================] - 8s 6ms/step - loss: 7.8435 - accuracy: 0.0091\n",
      "Epoch 5/10\n",
      "1478/1478 [==============================] - 8s 6ms/step - loss: 7.8427 - accuracy: 0.0137\n",
      "Epoch 6/10\n",
      "1478/1478 [==============================] - 9s 6ms/step - loss: 7.8418 - accuracy: 0.0193\n",
      "Epoch 7/10\n",
      "1478/1478 [==============================] - 8s 6ms/step - loss: 7.8410 - accuracy: 0.0271\n",
      "Epoch 8/10\n",
      "1478/1478 [==============================] - 8s 6ms/step - loss: 7.8401 - accuracy: 0.0335\n",
      "Epoch 9/10\n",
      "1478/1478 [==============================] - 8s 6ms/step - loss: 7.8393 - accuracy: 0.0397\n",
      "Epoch 10/10\n",
      "1478/1478 [==============================] - 8s 6ms/step - loss: 7.8385 - accuracy: 0.0403\n",
      "Epoch 1/10\n",
      "1478/1478 [==============================] - 13s 9ms/step - loss: 7.8463 - accuracy: 4.4418e-04\n",
      "Epoch 2/10\n",
      "1478/1478 [==============================] - 13s 9ms/step - loss: 7.8454 - accuracy: 5.1821e-04\n",
      "Epoch 3/10\n",
      "1478/1478 [==============================] - 13s 9ms/step - loss: 7.8445 - accuracy: 7.4030e-04\n",
      "Epoch 4/10\n",
      "1478/1478 [==============================] - 13s 9ms/step - loss: 7.8437 - accuracy: 0.0017\n",
      "Epoch 5/10\n",
      "1478/1478 [==============================] - 13s 9ms/step - loss: 7.8428 - accuracy: 0.0027\n",
      "Epoch 6/10\n",
      "1478/1478 [==============================] - 13s 9ms/step - loss: 7.8419 - accuracy: 0.0034\n",
      "Epoch 7/10\n",
      "1478/1478 [==============================] - 13s 9ms/step - loss: 7.8411 - accuracy: 0.0059\n",
      "Epoch 8/10\n",
      "1478/1478 [==============================] - 13s 9ms/step - loss: 7.8402 - accuracy: 0.0094\n",
      "Epoch 9/10\n",
      "1478/1478 [==============================] - 13s 9ms/step - loss: 7.8393 - accuracy: 0.0136\n",
      "Epoch 10/10\n",
      "1478/1478 [==============================] - 13s 9ms/step - loss: 7.8385 - accuracy: 0.0173\n",
      "Epoch 1/10\n",
      "1478/1478 [==============================] - 21s 14ms/step - loss: 7.8460 - accuracy: 4.8648e-04\n",
      "Epoch 2/10\n",
      "1478/1478 [==============================] - 21s 14ms/step - loss: 7.8451 - accuracy: 7.1915e-04\n",
      "Epoch 3/10\n",
      "1478/1478 [==============================] - 21s 14ms/step - loss: 7.8442 - accuracy: 0.0011\n",
      "Epoch 4/10\n",
      "1478/1478 [==============================] - 21s 14ms/step - loss: 7.8433 - accuracy: 0.0013\n",
      "Epoch 5/10\n",
      "1478/1478 [==============================] - 21s 14ms/step - loss: 7.8424 - accuracy: 0.0023\n",
      "Epoch 6/10\n",
      "1478/1478 [==============================] - 21s 14ms/step - loss: 7.8415 - accuracy: 0.0030\n",
      "Epoch 7/10\n",
      "1478/1478 [==============================] - 22s 15ms/step - loss: 7.8406 - accuracy: 0.0048\n",
      "Epoch 8/10\n",
      "1478/1478 [==============================] - 21s 14ms/step - loss: 7.8397 - accuracy: 0.0101\n",
      "Epoch 9/10\n",
      "1478/1478 [==============================] - 21s 14ms/step - loss: 7.8388 - accuracy: 0.0153\n",
      "Epoch 10/10\n",
      "1478/1478 [==============================] - 21s 14ms/step - loss: 7.8379 - accuracy: 0.0171\n"
     ]
    }
   ],
   "source": [
    "#TRAINING AND SAVING EMBEDDINGS\n",
    "\n",
    "#batch size: number of training samples to work through before the model’s internal parameters are updated\n",
    "\n",
    "#epochs: number of times to work through the entire training dataset\n",
    "\n",
    "#verbose: how do you want to 'see' the training progress for each epoch.\n",
    "    #0: nothing;   1:animated progress bar;   2:simply the number of epoch\n",
    "skipgram50.fit(x,y,batch_size=64,epochs=10,verbose=1)\n",
    "save_model_embed(skipgram50,\"skipgram50\")\n",
    "\n",
    "skipgram150.fit(x,y,batch_size=64,epochs=10,verbose=1)\n",
    "save_model_embed(skipgram150,\"skipgram150\")\n",
    "\n",
    "skipgram300.fit(x,y,batch_size=64,epochs=10,verbose=1)\n",
    "save_model_embed(skipgram300,\"skipgram300\")"
   ]
  },
  {
   "cell_type": "markdown",
   "metadata": {
    "colab_type": "text",
    "id": "b4z9Lt6pAZEw"
   },
   "source": [
    "## Task 1.2 - CBOW\n",
    "\n",
    "Build word embeddings of length 50, 150 and 300 using CBOW model."
   ]
  },
  {
   "cell_type": "code",
   "execution_count": 0,
   "metadata": {
    "colab": {},
    "colab_type": "code",
    "id": "KMhI_sWFTXDW"
   },
   "outputs": [],
   "source": [
    "# prepare data for CBOW\n",
    "def data_cbow(corpus, window_size, V):\n",
    "  x=[] #it will save a list of the context words\n",
    "  y=[]\n",
    "  context_size=window_size*2\n",
    "  for words in corpus:\n",
    "      L = len(words)\n",
    "      for index, word in enumerate(words):\n",
    "          \n",
    "          floor=index-window_size  #lower threshold of the context\n",
    "          ceiling=index+window_size+1  #higher threshold\n",
    "          \n",
    "          context=[words[i] for i in range(floor,ceiling) if 0<=i<L and i!=index]\n",
    "\n",
    "          x.append(context)\n",
    "          y.append(to_categorical(word, V))\n",
    "  x=sequence.pad_sequences(x)\n",
    "  return np.array(x),np.array(y)"
   ]
  },
  {
   "cell_type": "code",
   "execution_count": 0,
   "metadata": {
    "colab": {
     "base_uri": "https://localhost:8080/",
     "height": 51
    },
    "colab_type": "code",
    "executionInfo": {
     "elapsed": 2360,
     "status": "ok",
     "timestamp": 1589547061681,
     "user": {
      "displayName": "Antonaba Varela",
      "photoUrl": "",
      "userId": "06371348070710609953"
     },
     "user_tz": -120
    },
    "id": "cmRnl3xMJhmc",
    "outputId": "98a3927d-1c38-491f-eda0-5a230439e2f5"
   },
   "outputs": [
    {
     "name": "stdout",
     "output_type": "stream",
     "text": [
      "(27165, 4)\n",
      "(27165, 2557)\n"
     ]
    }
   ],
   "source": [
    "# create training data\n",
    "x,y=data_cbow(corpus, window_size, V)\n",
    "print(x.shape)\n",
    "print(y.shape)\n"
   ]
  },
  {
   "cell_type": "code",
   "execution_count": 0,
   "metadata": {
    "colab": {},
    "colab_type": "code",
    "id": "PHV9ZlNxJnrR"
   },
   "outputs": [],
   "source": [
    "def createCBOW(dim):\n",
    "  cbow=Sequential()\n",
    "  cbow.add(Embedding(input_dim=V, input_length=window_size*2, output_dim=dim))\n",
    "  cbow.add(Lambda(lambda x: K.mean(x, axis=1))) #find the average of the embedded words around\n",
    "  cbow.add(Dense(V,kernel_initializer=\"glorot_uniform\", activation=\"softmax\"))\n",
    "  cbow.compile(loss='categorical_crossentropy', optimizer='adadelta', metrics=['accuracy'])\n",
    "  return cbow"
   ]
  },
  {
   "cell_type": "code",
   "execution_count": 0,
   "metadata": {
    "colab": {
     "base_uri": "https://localhost:8080/",
     "height": 422
    },
    "colab_type": "code",
    "executionInfo": {
     "elapsed": 535,
     "status": "ok",
     "timestamp": 1589547066608,
     "user": {
      "displayName": "Antonaba Varela",
      "photoUrl": "",
      "userId": "06371348070710609953"
     },
     "user_tz": -120
    },
    "id": "mcaT3yqMv_dY",
    "outputId": "ac69eda8-af2f-4409-e173-ba100e3258ff"
   },
   "outputs": [
    {
     "data": {
      "image/png": "[encoded data removed]",
      "text/plain": [
       "<IPython.core.display.Image object>"
      ]
     },
     "execution_count": 111,
     "metadata": {
      "tags": []
     },
     "output_type": "execute_result"
    }
   ],
   "source": [
    "cbow50=createCBOW(50)\n",
    "plot_model(cbow50, show_shapes = True, show_layer_names=False)"
   ]
  },
  {
   "cell_type": "code",
   "execution_count": 0,
   "metadata": {
    "colab": {
     "base_uri": "https://localhost:8080/",
     "height": 422
    },
    "colab_type": "code",
    "executionInfo": {
     "elapsed": 567,
     "status": "ok",
     "timestamp": 1589547069479,
     "user": {
      "displayName": "Antonaba Varela",
      "photoUrl": "",
      "userId": "06371348070710609953"
     },
     "user_tz": -120
    },
    "id": "MqJBGoPJwOP_",
    "outputId": "155d6576-4927-4eda-c1e8-5a56364d89c5"
   },
   "outputs": [
    {
     "data": {
      "image/png": "[encoded data removed]",
      "text/plain": [
       "<IPython.core.display.Image object>"
      ]
     },
     "execution_count": 112,
     "metadata": {
      "tags": []
     },
     "output_type": "execute_result"
    }
   ],
   "source": [
    "cbow150=createCBOW(150)\n",
    "plot_model(cbow150, show_shapes = True, show_layer_names=False)"
   ]
  },
  {
   "cell_type": "code",
   "execution_count": 0,
   "metadata": {
    "colab": {
     "base_uri": "https://localhost:8080/",
     "height": 422
    },
    "colab_type": "code",
    "executionInfo": {
     "elapsed": 605,
     "status": "ok",
     "timestamp": 1589547072369,
     "user": {
      "displayName": "Antonaba Varela",
      "photoUrl": "",
      "userId": "06371348070710609953"
     },
     "user_tz": -120
    },
    "id": "18pmermiwOkm",
    "outputId": "7836c1cd-62c5-4e76-8796-5ee921433b31"
   },
   "outputs": [
    {
     "data": {
      "image/png": "[encoded data removed]",
      "text/plain": [
       "<IPython.core.display.Image object>"
      ]
     },
     "execution_count": 113,
     "metadata": {
      "tags": []
     },
     "output_type": "execute_result"
    }
   ],
   "source": [
    "cbow300=createCBOW(300)\n",
    "plot_model(cbow300, show_shapes = True, show_layer_names=False)"
   ]
  },
  {
   "cell_type": "code",
   "execution_count": 0,
   "metadata": {
    "colab": {
     "base_uri": "https://localhost:8080/",
     "height": 1000
    },
    "colab_type": "code",
    "executionInfo": {
     "elapsed": 130822,
     "status": "ok",
     "timestamp": 1589547206414,
     "user": {
      "displayName": "Antonaba Varela",
      "photoUrl": "",
      "userId": "06371348070710609953"
     },
     "user_tz": -120
    },
    "id": "M6Ypul-5JxE2",
    "outputId": "3375f999-f6c5-491b-d55e-e8448edd8f75"
   },
   "outputs": [
    {
     "name": "stdout",
     "output_type": "stream",
     "text": [
      "Epoch 1/10\n",
      "425/425 [==============================] - 2s 6ms/step - loss: 7.8464 - accuracy: 5.8899e-04\n",
      "Epoch 2/10\n",
      "425/425 [==============================] - 2s 6ms/step - loss: 7.8462 - accuracy: 8.4668e-04\n",
      "Epoch 3/10\n",
      "425/425 [==============================] - 2s 6ms/step - loss: 7.8459 - accuracy: 0.0011\n",
      "Epoch 4/10\n",
      "425/425 [==============================] - 2s 6ms/step - loss: 7.8457 - accuracy: 0.0015\n",
      "Epoch 5/10\n",
      "425/425 [==============================] - 2s 6ms/step - loss: 7.8454 - accuracy: 0.0023\n",
      "Epoch 6/10\n",
      "425/425 [==============================] - 2s 6ms/step - loss: 7.8452 - accuracy: 0.0039\n",
      "Epoch 7/10\n",
      "425/425 [==============================] - 2s 6ms/step - loss: 7.8450 - accuracy: 0.0062\n",
      "Epoch 8/10\n",
      "425/425 [==============================] - 2s 6ms/step - loss: 7.8447 - accuracy: 0.0092\n",
      "Epoch 9/10\n",
      "425/425 [==============================] - 2s 6ms/step - loss: 7.8445 - accuracy: 0.0134\n",
      "Epoch 10/10\n",
      "425/425 [==============================] - 2s 6ms/step - loss: 7.8442 - accuracy: 0.0174\n",
      "Epoch 1/10\n",
      "425/425 [==============================] - 4s 9ms/step - loss: 7.8465 - accuracy: 3.6812e-04\n",
      "Epoch 2/10\n",
      "425/425 [==============================] - 4s 9ms/step - loss: 7.8463 - accuracy: 4.7856e-04\n",
      "Epoch 3/10\n",
      "425/425 [==============================] - 4s 9ms/step - loss: 7.8460 - accuracy: 5.1537e-04\n",
      "Epoch 4/10\n",
      "425/425 [==============================] - 4s 9ms/step - loss: 7.8458 - accuracy: 7.3624e-04\n",
      "Epoch 5/10\n",
      "425/425 [==============================] - 4s 9ms/step - loss: 7.8455 - accuracy: 0.0010\n",
      "Epoch 6/10\n",
      "425/425 [==============================] - 4s 9ms/step - loss: 7.8453 - accuracy: 0.0013\n",
      "Epoch 7/10\n",
      "425/425 [==============================] - 4s 9ms/step - loss: 7.8450 - accuracy: 0.0016\n",
      "Epoch 8/10\n",
      "425/425 [==============================] - 4s 9ms/step - loss: 7.8448 - accuracy: 0.0019\n",
      "Epoch 9/10\n",
      "425/425 [==============================] - 4s 9ms/step - loss: 7.8445 - accuracy: 0.0026\n",
      "Epoch 10/10\n",
      "425/425 [==============================] - 4s 9ms/step - loss: 7.8443 - accuracy: 0.0035\n",
      "Epoch 1/10\n",
      "425/425 [==============================] - 6s 15ms/step - loss: 7.8466 - accuracy: 3.3131e-04\n",
      "Epoch 2/10\n",
      "425/425 [==============================] - 6s 15ms/step - loss: 7.8463 - accuracy: 4.4174e-04\n",
      "Epoch 3/10\n",
      "425/425 [==============================] - 6s 15ms/step - loss: 7.8460 - accuracy: 6.2581e-04\n",
      "Epoch 4/10\n",
      "425/425 [==============================] - 6s 15ms/step - loss: 7.8458 - accuracy: 7.3624e-04\n",
      "Epoch 5/10\n",
      "425/425 [==============================] - 6s 15ms/step - loss: 7.8455 - accuracy: 9.2030e-04\n",
      "Epoch 6/10\n",
      "425/425 [==============================] - 6s 15ms/step - loss: 7.8452 - accuracy: 0.0013\n",
      "Epoch 7/10\n",
      "425/425 [==============================] - 6s 15ms/step - loss: 7.8449 - accuracy: 0.0014\n",
      "Epoch 8/10\n",
      "425/425 [==============================] - 6s 15ms/step - loss: 7.8446 - accuracy: 0.0017\n",
      "Epoch 9/10\n",
      "425/425 [==============================] - 6s 15ms/step - loss: 7.8444 - accuracy: 0.0021\n",
      "Epoch 10/10\n",
      "425/425 [==============================] - 6s 15ms/step - loss: 7.8441 - accuracy: 0.0026\n"
     ]
    }
   ],
   "source": [
    "# train CBOW model and save embeddings\n",
    "cbow50.fit(x,y,batch_size=64,epochs=10,verbose=1)\n",
    "save_model_embed(cbow50,\"CBoW50\")\n",
    "\n",
    "cbow150.fit(x,y,batch_size=64,epochs=10,verbose=1)\n",
    "save_model_embed(cbow150,\"cbow150\")\n",
    "\n",
    "cbow300.fit(x,y,batch_size=64,epochs=10,verbose=1)\n",
    "save_model_embed(cbow300,\"cbow300\")"
   ]
  },
  {
   "cell_type": "markdown",
   "metadata": {
    "colab_type": "text",
    "id": "rr2BAI4nAfnG"
   },
   "source": [
    "## Task 1.3 - Analogy function\n",
    "\n",
    "Implement your own function to perform the analogy task (see [1] for concrete examples). Use the same distance metric as in [1]. Do not use existing libraries for this task such as Gensim. Your function should be able to answer whether an analogy like: \"a king is to a queen as a man is to a woman\" ($e_{king} - e_{queen} + e_{woman} \\approx e_{man}$) is true. \n",
    "\n",
    "In a perfect scenario, we would like that this analogy ( $e_{king} - e_{queen} + e_{woman}$) results in the embedding of the word \"man\". However, it does not always result in exactly the same word embedding. The result of the formula is called the expected or the predicted word embedding. In this context, \"man\" is called the true or the actual word $t$. We want to find the word $p$ in the vocabulary, where the embedding of $p$ ($e_p$) is the closest to the predicted embedding (i.e. result of the formula). Then, we can check if $p$ is the same word as the true word $t$.  \n",
    "\n",
    "You have to answer an analogy function using each embedding for both CBOW and Skipgram model. This means that for each analogy we have 6 outputs. Show the true word (with distance similarity value between predicted embedding and true word embedding, i.e. `sim1`) , the predicted word (with distance similarity value between predicted embedding and the embedding of the word in the vocabulary that is closest to this predicted embedding, i.e. `sim2`) and a boolean answer whether the predicted word **exactly** equals the true word. \n",
    "\n",
    "<b>HINT</b>: to visualize the results of the analogy tasks , you can print them in a table. An example is given below.\n",
    "\n",
    "\n",
    "| Analogy task | True word (sim1)  | Predicted word (sim2) | Embedding | Correct?|\n",
    "|------|------|------|------|------|\n",
    "|  queen is to king as woman is to ?\t | man (sim1) | predictd_word(sim2) | SG_50 | True / False|\n",
    "\n",
    "* Give at least 5 different  examples of analogies.\n",
    "* Compare the performance on the analogy s between the word embeddings and briefly discuss your results."
   ]
  },
  {
   "cell_type": "code",
   "execution_count": 0,
   "metadata": {
    "colab": {},
    "colab_type": "code",
    "id": "xcDbgJeiLNqm"
   },
   "outputs": [],
   "source": [
    "def embed(word, embedding, vocab_size = V, tokenizer=tokenizer):\n",
    "    # get the index of the word from the tokenizer, i.e. convert the string to it's corresponding integer in the vocabulary\n",
    "    int_word = tokenizer.texts_to_sequences([word])[0]\n",
    "    # get the one-hot encoding of the word\n",
    "    bin_word = to_categorical(int_word, V)\n",
    "    return np.dot(bin_word, embedding)\n",
    "\n",
    "def analogy(embedding, name, word1 ,word2, word3,word4):\n",
    "  #queen,king,woman,man\n",
    "  #man=king-queen+woman\n",
    "  #word4 ~ word2-word1+word3\n",
    "  predictedEmbedding = embed(word2,embedding)-embed(word1,embedding)+embed(word3,embedding)\n",
    "  sim1=cosine_similarity(predictedEmbedding,embed(word4,embedding))\n",
    "  sim2=sim1\n",
    "  predictedWord=word4\n",
    "  for word,i in tokenizer.word_index.items():\n",
    "    if(cosine_similarity(predictedEmbedding,embed(word,embedding))>sim2):\n",
    "      sim2=cosine_similarity(predictedEmbedding,embed(word,embedding))\n",
    "      predictedWord=word\n",
    "  return \"Analogy: \" + str(word1) + \" is to \" + str(word2) +\" as \" + str(word3) + \" is to ? || True word: \" + str(word4) + \" (\" + str(sim1[0][0]) + \") || Predicted word: \"+ str(predictedWord) +\" (\" + str(sim2[0][0]) + \") || Embedding :\"+ str(name) + \" || Correct?: \" + str(word4==predictedWord)\n",
    "\n"
   ]
  },
  {
   "cell_type": "code",
   "execution_count": 0,
   "metadata": {
    "colab": {},
    "colab_type": "code",
    "id": "-pXjCxOvPCg1"
   },
   "outputs": [],
   "source": [
    "#load embeddings\n",
    "embeddingSkip50=skipgram50.get_weights()[0]\n",
    "embeddingSkip150=skipgram150.get_weights()[0]\n",
    "embeddingSkip300=skipgram300.get_weights()[0]\n",
    "\n",
    "embeddingCBOW50=cbow50.get_weights()[0]\n",
    "embeddingCBOW150=cbow150.get_weights()[0]\n",
    "embeddingCBOW300=cbow300.get_weights()[0]"
   ]
  },
  {
   "cell_type": "code",
   "execution_count": 0,
   "metadata": {
    "colab": {
     "base_uri": "https://localhost:8080/",
     "height": 853
    },
    "colab_type": "code",
    "executionInfo": {
     "elapsed": 54634,
     "status": "ok",
     "timestamp": 1589547279671,
     "user": {
      "displayName": "Antonaba Varela",
      "photoUrl": "",
      "userId": "06371348070710609953"
     },
     "user_tz": -120
    },
    "id": "J7FnjM2vPIQ8",
    "outputId": "1ea2b096-fb08-4083-a369-dd4958fe8bcf"
   },
   "outputs": [
    {
     "name": "stdout",
     "output_type": "stream",
     "text": [
      "Analogy: england is to english as france is to ? || True word: french (0.17204463) || Predicted word: france (0.6135363) || Embedding :SkipGram 50 || Correct?: False\n",
      "Analogy: england is to english as france is to ? || True word: french (-0.086350076) || Predicted word: france (0.55922043) || Embedding :SkipGram 50 || Correct?: False\n",
      "Analogy: england is to english as france is to ? || True word: french (-0.112094514) || Predicted word: france (0.5749762) || Embedding :SkipGram 50 || Correct?: False\n",
      "Analogy: england is to english as france is to ? || True word: french (0.08464741) || Predicted word: english (0.65494204) || Embedding :SkipGram 50 || Correct?: False\n",
      "Analogy: england is to english as france is to ? || True word: french (0.059909962) || Predicted word: france (0.6178342) || Embedding :SkipGram 50 || Correct?: False\n",
      "Analogy: england is to english as france is to ? || True word: french (-0.031680834) || Predicted word: france (0.5584538) || Embedding :SkipGram 50 || Correct?: False\n",
      "\n",
      "\n",
      "Analogy: queen is to king as woman is to ? || True word: man (0.06380403) || Predicted word: woman (0.73469484) || Embedding :SkipGram 50 || Correct?: False\n",
      "Analogy: queen is to king as woman is to ? || True word: man (0.005389289) || Predicted word: woman (0.6154543) || Embedding :SkipGram 150 || Correct?: False\n",
      "Analogy: queen is to king as woman is to ? || True word: man (-0.04086691) || Predicted word: woman (0.5780194) || Embedding :SkipGram 300 || Correct?: False\n",
      "Analogy: queen is to king as woman is to ? || True word: man (-0.11531091) || Predicted word: woman (0.69558555) || Embedding :CBOW 50 || Correct?: False\n",
      "Analogy: queen is to king as woman is to ? || True word: man (-0.118531644) || Predicted word: king (0.66361195) || Embedding :CBOW 150 || Correct?: False\n",
      "Analogy: queen is to king as woman is to ? || True word: man (-0.08747495) || Predicted word: king (0.58454055) || Embedding :CBOW 300 || Correct?: False\n",
      "\n",
      "\n",
      "Analogy: he is to she as his is to ? || True word: her (-0.03259714) || Predicted word: his (0.5433394) || Embedding :SkipGram 50 || Correct?: False\n",
      "Analogy: he is to she as his is to ? || True word: her (0.120267004) || Predicted word: she (0.6433726) || Embedding :SkipGram 150 || Correct?: False\n",
      "Analogy: he is to she as his is to ? || True word: her (-0.01268464) || Predicted word: she (0.59588414) || Embedding :SkipGram 300 || Correct?: False\n",
      "Analogy: he is to she as his is to ? || True word: her (-0.25110552) || Predicted word: she (0.6786705) || Embedding :CBOW 50 || Correct?: False\n",
      "Analogy: he is to she as his is to ? || True word: her (0.058513142) || Predicted word: his (0.6433639) || Embedding :CBOW 150 || Correct?: False\n",
      "Analogy: he is to she as his is to ? || True word: her (-0.08578366) || Predicted word: she (0.5617628) || Embedding :CBOW 300 || Correct?: False\n",
      "\n",
      "\n",
      "Analogy: man is to son as woman is to ? || True word: daughter (-0.068976484) || Predicted word: son (0.6117587) || Embedding :SkipGram 50 || Correct?: False\n",
      "Analogy: man is to son as woman is to ? || True word: daughter (-0.10891206) || Predicted word: woman (0.62032175) || Embedding :SkipGram 150 || Correct?: False\n",
      "Analogy: man is to son as woman is to ? || True word: daughter (0.01843489) || Predicted word: woman (0.648361) || Embedding :SkipGram 300 || Correct?: False\n",
      "Analogy: man is to son as woman is to ? || True word: daughter (-0.07856147) || Predicted word: woman (0.7183494) || Embedding :CBOW 50 || Correct?: False\n",
      "Analogy: man is to son as woman is to ? || True word: daughter (0.03539754) || Predicted word: son (0.6034404) || Embedding :CBOW 150 || Correct?: False\n",
      "Analogy: man is to son as woman is to ? || True word: daughter (0.015818449) || Predicted word: woman (0.5640961) || Embedding :CBOW 300 || Correct?: False\n",
      "\n",
      "\n",
      "Analogy: up is to down as high is to ? || True word: low (0.10072828) || Predicted word: down (0.6550908) || Embedding :SkipGram 50 || Correct?: False\n",
      "Analogy: up is to down as high is to ? || True word: low (-0.09351482) || Predicted word: down (0.5992009) || Embedding :SkipGram 150 || Correct?: False\n",
      "Analogy: up is to down as high is to ? || True word: low (0.009393801) || Predicted word: high (0.60144234) || Embedding :SkipGram 300 || Correct?: False\n",
      "Analogy: up is to down as high is to ? || True word: low (-0.0091443425) || Predicted word: high (0.66251194) || Embedding :CBOW 50 || Correct?: False\n",
      "Analogy: up is to down as high is to ? || True word: low (0.08211557) || Predicted word: high (0.66229546) || Embedding :CBOW 150 || Correct?: False\n",
      "Analogy: up is to down as high is to ? || True word: low (-0.051391914) || Predicted word: high (0.5707254) || Embedding :CBOW 300 || Correct?: False\n",
      "\n",
      "\n",
      "Analogy: is is to was as has is to ? || True word: had (-0.018111529) || Predicted word: has (0.6822208) || Embedding :SkipGram 50 || Correct?: False\n",
      "Analogy: is is to was as has is to ? || True word: had (-0.027100565) || Predicted word: was (0.5744706) || Embedding :SkipGram 150 || Correct?: False\n",
      "Analogy: is is to was as has is to ? || True word: had (-0.105340645) || Predicted word: was (0.5977745) || Embedding :SkipGram 300 || Correct?: False\n",
      "Analogy: is is to was as has is to ? || True word: had (-0.10687181) || Predicted word: has (0.5243774) || Embedding :CBOW 50 || Correct?: False\n",
      "Analogy: is is to was as has is to ? || True word: had (-0.14903314) || Predicted word: has (0.56569564) || Embedding :CBOW 150 || Correct?: False\n",
      "Analogy: is is to was as has is to ? || True word: had (-0.0593428) || Predicted word: was (0.6198405) || Embedding :CBOW 300 || Correct?: False\n",
      "\n",
      "\n"
     ]
    }
   ],
   "source": [
    "#5 different analogies\n",
    "print(analogy(embeddingSkip50, \"SkipGram 50\", \"england\",\"english\",\"france\",\"french\"))\n",
    "print(analogy(embeddingSkip150, \"SkipGram 50\", \"england\",\"english\",\"france\",\"french\"))\n",
    "print(analogy(embeddingSkip300, \"SkipGram 50\", \"england\",\"english\",\"france\",\"french\"))\n",
    "print(analogy(embeddingCBOW50, \"SkipGram 50\", \"england\",\"english\",\"france\",\"french\"))\n",
    "print(analogy(embeddingCBOW150, \"SkipGram 50\", \"england\",\"english\",\"france\",\"french\"))\n",
    "print(analogy(embeddingCBOW300, \"SkipGram 50\", \"england\",\"english\",\"france\",\"french\"))\n",
    "print(\"\\n\")\n",
    "\n",
    "print(analogy(embeddingSkip50, \"SkipGram 50\", \"queen\",\"king\",\"woman\",\"man\"))\n",
    "print(analogy(embeddingSkip150, \"SkipGram 150\", \"queen\",\"king\",\"woman\",\"man\"))\n",
    "print(analogy(embeddingSkip300, \"SkipGram 300\", \"queen\",\"king\",\"woman\",\"man\"))\n",
    "print(analogy(embeddingCBOW50, \"CBOW 50\", \"queen\",\"king\",\"woman\",\"man\"))\n",
    "print(analogy(embeddingCBOW150, \"CBOW 150\", \"queen\",\"king\",\"woman\",\"man\"))\n",
    "print(analogy(embeddingCBOW300, \"CBOW 300\", \"queen\",\"king\",\"woman\",\"man\"))\n",
    "print(\"\\n\")\n",
    "print(analogy(embeddingSkip50, \"SkipGram 50\", \"he\",\"she\",\"his\",\"her\"))\n",
    "print(analogy(embeddingSkip150, \"SkipGram 150\", \"he\",\"she\",\"his\",\"her\"))\n",
    "print(analogy(embeddingSkip300, \"SkipGram 300\", \"he\",\"she\",\"his\",\"her\"))\n",
    "print(analogy(embeddingCBOW50, \"CBOW 50\", \"he\",\"she\",\"his\",\"her\"))\n",
    "print(analogy(embeddingCBOW150, \"CBOW 150\", \"he\",\"she\",\"his\",\"her\"))\n",
    "print(analogy(embeddingCBOW300, \"CBOW 300\", \"he\",\"she\",\"his\",\"her\"))\n",
    "print(\"\\n\")\n",
    "\n",
    "print(analogy(embeddingSkip50, \"SkipGram 50\", \"man\",\"son\",\"woman\",\"daughter\"))\n",
    "print(analogy(embeddingSkip150, \"SkipGram 150\", \"man\",\"son\",\"woman\",\"daughter\"))\n",
    "print(analogy(embeddingSkip300, \"SkipGram 300\", \"man\",\"son\",\"woman\",\"daughter\"))\n",
    "print(analogy(embeddingCBOW50, \"CBOW 50\", \"man\",\"son\",\"woman\",\"daughter\"))\n",
    "print(analogy(embeddingCBOW150, \"CBOW 150\", \"man\",\"son\",\"woman\",\"daughter\"))\n",
    "print(analogy(embeddingCBOW300, \"CBOW 300\", \"man\",\"son\",\"woman\",\"daughter\"))\n",
    "print(\"\\n\")\n",
    "\n",
    "print(analogy(embeddingSkip50, \"SkipGram 50\", \"up\",\"down\",\"high\",\"low\"))\n",
    "print(analogy(embeddingSkip150, \"SkipGram 150\", \"up\",\"down\",\"high\",\"low\"))\n",
    "print(analogy(embeddingSkip300, \"SkipGram 300\", \"up\",\"down\",\"high\",\"low\"))\n",
    "print(analogy(embeddingCBOW50, \"CBOW 50\", \"up\",\"down\",\"high\",\"low\"))\n",
    "print(analogy(embeddingCBOW150, \"CBOW 150\", \"up\",\"down\",\"high\",\"low\"))\n",
    "print(analogy(embeddingCBOW300, \"CBOW 300\", \"up\",\"down\",\"high\",\"low\"))\n",
    "print(\"\\n\")\n",
    "\n",
    "print(analogy(embeddingSkip50, \"SkipGram 50\", \"is\",\"was\",\"has\",\"had\"))\n",
    "print(analogy(embeddingSkip150, \"SkipGram 150\", \"is\",\"was\",\"has\",\"had\"))\n",
    "print(analogy(embeddingSkip300, \"SkipGram 300\", \"is\",\"was\",\"has\",\"had\"))\n",
    "print(analogy(embeddingCBOW50, \"CBOW 50\", \"is\",\"was\",\"has\",\"had\"))\n",
    "print(analogy(embeddingCBOW150, \"CBOW 150\", \"is\",\"was\",\"has\",\"had\"))\n",
    "print(analogy(embeddingCBOW300, \"CBOW 300\", \"is\",\"was\",\"has\",\"had\"))\n",
    "print(\"\\n\") "
   ]
  },
  {
   "cell_type": "markdown",
   "metadata": {
    "colab_type": "text",
    "id": "Vml2jyEhauzv"
   },
   "source": [
    "# **Analysis**\n",
    "\n",
    "Both skipgram and cbow fail to predict the word no matter what the dimensions or analogies that we introduce. This is probably due to the fact that all of the neural networks have not been sufficiently trained, therefore the predictions are not very accurate, as it can be seen from the accuracy from each neural network.\n",
    "\n",
    "If we take a closer look at the predicted words we will notice that, if the analogy is A to B is as C to D, and D is the word we want to predict; it is always B or C reported. This leads us to believe that the analogy function is properly implemented because D should be B-A+C so it does make sense that either B or C is the reported word if the network has not been trained enough. Which is further supported by the fact that the authors use a training sample size of 783 million words in the paper to achieve 50.4 percent accuracy, whereas ours has around 27 thousand."
   ]
  },
  {
   "cell_type": "markdown",
   "metadata": {
    "colab_type": "text",
    "id": "5h-OWIF9AsKH"
   },
   "source": [
    "## Task 1.4 - Discussion\n",
    "Answer the following question:\n",
    "* Given the same number of sentences as input, CBOW and Skipgram arrange the data into different number of training samples. Which one has more and why?"
   ]
  },
  {
   "cell_type": "markdown",
   "metadata": {
    "colab_type": "text",
    "id": "N4WT1LZEd0BL"
   },
   "source": [
    "Skipgram's training data shapes are x.shape = (94556,) and y.shape = (94556, 2557), meaning that x contains 94556 samples and y has  another 94556 of length 2557 each; resulting in a total of 189112 training samples.\n",
    "\n",
    "This is because the x consists of the 4 context words around every word, 94556/27165 (total number of words) is 3.5 not 4, because there may be sentences with four or fewer words. Also, y is the categorical conversion of all of those words, the converted value is a vector with size equals to the total number of unique words (2557).\n",
    "\n",
    "Whereas cbow's x.shape = (27165, 4) and y.shape = (27165, 2557), therefore x consists of 27165*4 = 108660 samples, y of 27165 samples of length 2557; which sums up to 135825 training samples.\n",
    "\n",
    "This is due to each element of x being a list of 4 elements (the context for every word) and y is the categorical conversion of that word. This implies that there are more training data points needed for the skipgram model than for the cbow one. Theoretically this is because for both we need the same amount of samples in x, but for skipgram we are aiming to predict its context so we need to save its categorical conversion in our y variable ; meanwhile for cbow we only need the conversion of the word not the context."
   ]
  }
 ],
 "metadata": {
  "colab": {
   "collapsed_sections": [],
   "name": "Assignment1_Group30.ipynb",
   "provenance": []
  },
  "kernelspec": {
   "display_name": "Python 3",
   "language": "python",
   "name": "python3"
  },
  "language_info": {
   "codemirror_mode": {
    "name": "ipython",
    "version": 3
   },
   "file_extension": ".py",
   "mimetype": "text/x-python",
   "name": "python",
   "nbconvert_exporter": "python",
   "pygments_lexer": "ipython3",
   "version": "3.7.11"
  }
 },
 "nbformat": 4,
 "nbformat_minor": 1
}
